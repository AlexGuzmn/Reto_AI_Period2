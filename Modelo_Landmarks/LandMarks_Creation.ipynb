{
 "cells": [
  {
   "cell_type": "code",
   "execution_count": 29,
   "metadata": {
    "id": "yrmElhAQLkWu"
   },
   "outputs": [],
   "source": [
    "import numpy as np\n",
    "import pandas as pd\n",
    "import matplotlib.pyplot as plt\n",
    "from skimage.morphology import binary_dilation, binary_erosion, disk\n",
    "from skimage.filters import gaussian\n",
    "from scipy.ndimage import gaussian_filter\n",
    "import os\n",
    "import cv2"
   ]
  },
  {
   "cell_type": "code",
   "execution_count": 30,
   "metadata": {
    "id": "VpYKu5z9rld0"
   },
   "outputs": [],
   "source": [
    "def extract_contours(mask):\n",
    "    gray_mask = cv2.cvtColor(mask, cv2.COLOR_BGR2GRAY)\n",
    "    contours, _ = cv2.findContours(gray_mask, cv2.RETR_EXTERNAL, cv2.CHAIN_APPROX_SIMPLE)\n",
    "    contour_image = np.zeros_like(mask)\n",
    "    cv2.drawContours(contour_image, contours, -1, (255, 255, 255), 2)\n",
    "\n",
    "    return contour_image"
   ]
  },
  {
   "cell_type": "code",
   "execution_count": 31,
   "metadata": {
    "id": "Rcrhc9TU0EzG"
   },
   "outputs": [],
   "source": [
    "def generate_heatmaps(img_h, img_w, coords, dilation_size=10):\n",
    "    num_coords = len(coords)\n",
    "    heatmaps = np.zeros((num_coords, img_h, img_w))\n",
    "\n",
    "    for i in range(num_coords):\n",
    "        current_coord = coords[i]\n",
    "        heatmaps[i, current_coord[0], current_coord[1]] = 1\n",
    "    return heatmaps"
   ]
  },
  {
   "cell_type": "code",
   "execution_count": 32,
   "metadata": {
    "id": "FR2LEJMn0H1f"
   },
   "outputs": [],
   "source": [
    "def apply_gaussian_filter(heatmaps, var=20):\n",
    "    gaussian_heatmaps = gaussian_filter(heatmaps, sigma=[0, var, var])\n",
    "    return gaussian_heatmaps"
   ]
  },
  {
   "cell_type": "code",
   "execution_count": 33,
   "metadata": {
    "id": "cM8vytV1Komq"
   },
   "outputs": [],
   "source": [
    "def apply_contour_mask(gaussian_heatmaps, contour_image):\n",
    "    gray_contour_image = cv2.cvtColor(contour_image, cv2.COLOR_BGR2GRAY)\n",
    "    gray_contour_image_resized = cv2.resize(gray_contour_image, (gaussian_heatmaps.shape[2], gaussian_heatmaps.shape[1]))\n",
    "    masked_heatmaps = np.zeros_like(gaussian_heatmaps)\n",
    "    max_coords_list = []  # Lista para almacenar las coordenadas de los puntos más altos\n",
    "\n",
    "    for i in range(len(gaussian_heatmaps)):\n",
    "        masked_heatmaps[i] = gray_contour_image_resized * gaussian_heatmaps[i]\n",
    "\n",
    "        # Renormalizar para que los valores estén entre 0 y 1\n",
    "        max_val = np.max(masked_heatmaps[i])\n",
    "        if max_val != 0:\n",
    "            masked_heatmaps[i] = masked_heatmaps[i] / max_val\n",
    "\n",
    "    return masked_heatmaps"
   ]
  },
  {
   "cell_type": "code",
   "execution_count": 37,
   "metadata": {
    "id": "DYDYDX9hGZ5G"
   },
   "outputs": [],
   "source": [
    "def save_heatmaps_as_txt(masked_heatmaps, mask_name, output_directory):\n",
    "    txt_path = os.path.join(output_directory, f\"{mask_name}_heatmaps.txt\")\n",
    "    with open(txt_path, 'w') as f:\n",
    "        for i, heatmap in enumerate(masked_heatmaps, start=1):\n",
    "            f.write(f\"Landmark {i}:\\n\")  # Marcar el inicio de una nueva landmark\n",
    "            for row in heatmap:\n",
    "                for value in row:\n",
    "                    f.write(f\"{value} \")\n",
    "                f.write(\"\\n\")\n",
    "\n",
    "def process_directory(directory, output_landmarks_directory, threshold=10):\n",
    "    for filename in os.listdir(directory):\n",
    "        mask_number = int(filename.split(\"_mask_\")[1].split(\".\")[0])\n",
    "        if filename.endswith(f\"_mask_{mask_number:04d}.png\"):\n",
    "            mask_path = os.path.join(directory, filename)\n",
    "            mask_name = os.path.splitext(filename)[0]\n",
    "\n",
    "            mask = cv2.imread(mask_path)\n",
    "            contour_image = extract_contours(mask)\n",
    "            heatmaps = generate_heatmaps(img_h, img_w, coords)\n",
    "            gaussian_heatmaps = apply_gaussian_filter(heatmaps)\n",
    "\n",
    "            masked_heatmaps = apply_contour_mask(gaussian_heatmaps, contour_image)\n",
    "\n",
    "            # Directorio para los heatmaps\n",
    "            heatmaps_output_directory = os.path.join(output_landmarks_directory, f\"{mask_name}\")\n",
    "            os.makedirs(heatmaps_output_directory, exist_ok=True)\n",
    "\n",
    "            # Guardar los heatmaps en un archivo txt\n",
    "            save_heatmaps_as_txt(masked_heatmaps, mask_name, heatmaps_output_directory)"
   ]
  },
  {
   "cell_type": "code",
   "execution_count": 38,
   "metadata": {
    "id": "f1rxzc4bMy7g"
   },
   "outputs": [],
   "source": [
    "# Directorio raíz donde se guardarán las imágenes de las masks\n",
    "root_directory = 'D:\\\\RetoAI'\n",
    "\n",
    "# Directorio para train\n",
    "train_directory = os.path.join(root_directory, 'train', 'masks')\n",
    "# Directorio para test\n",
    "test_directory = os.path.join(root_directory, 'test', 'masks')\n",
    "# Directorio para val\n",
    "val_directory = os.path.join(root_directory, 'val', 'masks')"
   ]
  },
  {
   "cell_type": "code",
   "execution_count": 39,
   "metadata": {
    "id": "LEMIUxwo9alu"
   },
   "outputs": [],
   "source": [
    "# Directorio raíz donde se guardarán las imágenes de las masks\n",
    "root_directory = 'D:\\\\RetoAI'\n",
    "\n",
    "# Directorio para train\n",
    "train_directoryL = os.path.join(root_directory, 'train', 'landMarks')\n",
    "# Directorio para test\n",
    "test_directoryL = os.path.join(root_directory, 'test', 'landMarks')\n",
    "# Directorio para val\n",
    "val_directoryL = os.path.join(root_directory, 'val', 'landMarks')\n",
    "\n",
    "# Crear directorios si no existen\n",
    "for directory in [train_directoryL, test_directoryL, val_directoryL]:\n",
    "    os.makedirs(directory, exist_ok=True)"
   ]
  },
  {
   "cell_type": "code",
   "execution_count": 40,
   "metadata": {
    "colab": {
     "base_uri": "https://localhost:8080/"
    },
    "id": "dt9JMY8_gTKK",
    "outputId": "012eb241-c635-4fb5-e7d7-5933e613c00a"
   },
   "outputs": [
    {
     "name": "stdout",
     "output_type": "stream",
     "text": [
      "Directorio D:\\RetoAI\\train\\landMarks creado con éxito.\n",
      "Directorio D:\\RetoAI\\test\\landMarks creado con éxito.\n",
      "Directorio D:\\RetoAI\\val\\landMarks creado con éxito.\n"
     ]
    }
   ],
   "source": [
    "for directory in [train_directoryL, test_directoryL, val_directoryL]:\n",
    "    try:\n",
    "        os.makedirs(directory, exist_ok=True)\n",
    "        print(f\"Directorio {directory} creado con éxito.\")\n",
    "    except Exception as e:\n",
    "        print(f\"Error al crear el directorio {directory}: {e}\")"
   ]
  },
  {
   "cell_type": "code",
   "execution_count": 41,
   "metadata": {
    "id": "r-TwRb0AzifF"
   },
   "outputs": [],
   "source": [
    "# Definir las coordenadas y el tamaño de la imagen\n",
    "img_h, img_w = 112, 112\n",
    "coords = [(20, 26), (20, 84), (56, 20), (56, 92), (92, 66), (92, 25), (92, 92)]"
   ]
  },
  {
   "cell_type": "code",
   "execution_count": 42,
   "metadata": {
    "id": "uFCrmKMw0sP-"
   },
   "outputs": [],
   "source": [
    "train_landmarks_df = process_directory(train_directory, train_directoryL)"
   ]
  },
  {
   "cell_type": "code",
   "execution_count": 43,
   "metadata": {
    "id": "Js6Ew9jXx-Jx"
   },
   "outputs": [],
   "source": [
    "test_landmarks_df = process_directory(test_directory, test_directoryL)"
   ]
  },
  {
   "cell_type": "code",
   "execution_count": 44,
   "metadata": {
    "id": "mY-CIIccRoA0"
   },
   "outputs": [],
   "source": [
    "val_landmarks_df = process_directory(val_directory, val_directoryL)"
   ]
  }
 ],
 "metadata": {
  "colab": {
   "provenance": []
  },
  "kernelspec": {
   "display_name": "tf_gpu",
   "language": "python",
   "name": "python3"
  },
  "language_info": {
   "codemirror_mode": {
    "name": "ipython",
    "version": 3
   },
   "file_extension": ".py",
   "mimetype": "text/x-python",
   "name": "python",
   "nbconvert_exporter": "python",
   "pygments_lexer": "ipython3",
   "version": "3.9.18"
  }
 },
 "nbformat": 4,
 "nbformat_minor": 4
}
